{
 "cells": [
  {
   "cell_type": "code",
   "execution_count": 2,
   "metadata": {},
   "outputs": [],
   "source": [
    " # Initial imports\n",
    "import os\n",
    "import requests\n",
    "import pandas as pd\n",
    "from dotenv import load_dotenv\n",
    "import alpaca_trade_api as tradeapi\n",
    "from MCForecastTools import MCSimulation\n",
    "\n",
    "%matplotlib inline"
   ]
  },
  {
   "cell_type": "code",
   "execution_count": 3,
   "metadata": {},
   "outputs": [
    {
     "data": {
      "text/plain": [
       "True"
      ]
     },
     "execution_count": 3,
     "metadata": {},
     "output_type": "execute_result"
    }
   ],
   "source": [
    " # Load .env enviroment variables\n",
    "load_dotenv()"
   ]
  },
  {
   "cell_type": "code",
   "execution_count": 5,
   "metadata": {},
   "outputs": [],
   "source": [
    " #Part 1 - Personal Finance Planner\n",
    "    #Collect Crypto Prices Using the requests Library"
   ]
  },
  {
   "cell_type": "code",
   "execution_count": 19,
   "metadata": {},
   "outputs": [],
   "source": [
    "# Set current amount of crypto assets\n",
    "my_btc =1.2\n",
    "my_eth =5.3"
   ]
  },
  {
   "cell_type": "code",
   "execution_count": 20,
   "metadata": {},
   "outputs": [],
   "source": [
    "# Crypto API URLs\n",
    "btc_url = \"https://api.alternative.me/v2/ticker/Bitcoin/?convert=CAD\"\n",
    "eth_url = \"https://api.alternative.me/v2/ticker/Ethereum/?convert=CAD\""
   ]
  },
  {
   "cell_type": "code",
   "execution_count": 21,
   "metadata": {},
   "outputs": [],
   "source": [
    "import json"
   ]
  },
  {
   "cell_type": "code",
   "execution_count": 29,
   "metadata": {},
   "outputs": [
    {
     "data": {
      "text/plain": [
       "<Response [200]>"
      ]
     },
     "execution_count": 29,
     "metadata": {},
     "output_type": "execute_result"
    }
   ],
   "source": [
    "# Fetch current BTC price\n",
    "response_data_btc = requests.get(btc_url)\n",
    "response_data_btc\n"
   ]
  },
  {
   "cell_type": "code",
   "execution_count": 30,
   "metadata": {},
   "outputs": [
    {
     "name": "stdout",
     "output_type": "stream",
     "text": [
      "b'{\\n\\t\"data\": {\\n\\t\\t\"1\": {\\n\\t\\t\\t\"id\": 1,\\n\\t\\t\\t\"name\": \"Bitcoin\",\\n\\t\\t\\t\"symbol\": \"BTC\",\\n\\t\\t\\t\"website_slug\": \"bitcoin\",\\n\\t\\t\\t\"rank\": 1,\\n\\t\\t\\t\"circulating_supply\": 18588650,\\n\\t\\t\\t\"total_supply\": 18588650,\\n\\t\\t\\t\"max_supply\": 21000000,\\n\\t\\t\\t\"quotes\": {\\n\\t\\t\\t\\t\"USD\": {\\n\\t\\t\\t\\t\\t\"price\": 32795.0000000000000000,\\n\\t\\t\\t\\t\\t\"volume_24h\": 49153814380,\\n\\t\\t\\t\\t\\t\"market_cap\": 605337696383,\\n\\t\\t\\t\\t\\t\"percentage_change_1h\": -0.5965946485712180,\\n\\t\\t\\t\\t\\t\"percentage_change_24h\": 12.3222748207023000,\\n\\t\\t\\t\\t\\t\"percentage_change_7d\": 32.9282470297749000,\\n\\t\\t\\t\\t\\t\"percent_change_1h\": -0.5965946485712180,\\n\\t\\t\\t\\t\\t\"percent_change_24h\": 12.3222748207023000,\\n\\t\\t\\t\\t\\t\"percent_change_7d\": 32.9282470297749000\\n\\t\\t\\t\\t},\\n\\t\\t\\t\\t\"CAD\": {\\n\\t\\t\\t\\t\\t\"price\": 41770.9915,\\n\\t\\t\\t\\t\\t\"volume_24h\": 62607213375.806,\\n\\t\\t\\t\\t\\t\"market_cap\": 771018623883.027,\\n\\t\\t\\t\\t\\t\"percent_change_1h\": -0.5965946485712180,\\n\\t\\t\\t\\t\\t\"percent_change_24h\": 12.3222748207023000,\\n\\t\\t\\t\\t\\t\"percent_change_7d\": 32.9282470297749000\\n\\t\\t\\t\\t}\\n\\t\\t\\t},\\n\\t\\t\\t\"last_updated\": 1609618428\\n\\t\\t}\\n\\t},\\n\\t\"metadata\": {\\n\\t\\t\"timestamp\": 1609618428,\\n\\t\\t\"num_cryptocurrencies\": 1389,\\n\\t\\t\"error\": null\\n\\t}\\n}'\n"
     ]
    }
   ],
   "source": [
    "response_content_btc = response_data_btc.content\n",
    "print(response_content_btc)"
   ]
  },
  {
   "cell_type": "code",
   "execution_count": 31,
   "metadata": {},
   "outputs": [],
   "source": [
    "btc_data = response_data_btc.json()"
   ]
  },
  {
   "cell_type": "code",
   "execution_count": 32,
   "metadata": {},
   "outputs": [
    {
     "name": "stdout",
     "output_type": "stream",
     "text": [
      "{\n",
      "    \"data\": {\n",
      "        \"1\": {\n",
      "            \"id\": 1,\n",
      "            \"name\": \"Bitcoin\",\n",
      "            \"symbol\": \"BTC\",\n",
      "            \"website_slug\": \"bitcoin\",\n",
      "            \"rank\": 1,\n",
      "            \"circulating_supply\": 18588650,\n",
      "            \"total_supply\": 18588650,\n",
      "            \"max_supply\": 21000000,\n",
      "            \"quotes\": {\n",
      "                \"USD\": {\n",
      "                    \"price\": 32795.0,\n",
      "                    \"volume_24h\": 49153814380,\n",
      "                    \"market_cap\": 605337696383,\n",
      "                    \"percentage_change_1h\": -0.596594648571218,\n",
      "                    \"percentage_change_24h\": 12.3222748207023,\n",
      "                    \"percentage_change_7d\": 32.9282470297749,\n",
      "                    \"percent_change_1h\": -0.596594648571218,\n",
      "                    \"percent_change_24h\": 12.3222748207023,\n",
      "                    \"percent_change_7d\": 32.9282470297749\n",
      "                },\n",
      "                \"CAD\": {\n",
      "                    \"price\": 41770.9915,\n",
      "                    \"volume_24h\": 62607213375.806,\n",
      "                    \"market_cap\": 771018623883.027,\n",
      "                    \"percent_change_1h\": -0.596594648571218,\n",
      "                    \"percent_change_24h\": 12.3222748207023,\n",
      "                    \"percent_change_7d\": 32.9282470297749\n",
      "                }\n",
      "            },\n",
      "            \"last_updated\": 1609618428\n",
      "        }\n",
      "    },\n",
      "    \"metadata\": {\n",
      "        \"timestamp\": 1609618428,\n",
      "        \"num_cryptocurrencies\": 1389,\n",
      "        \"error\": null\n",
      "    }\n",
      "}\n"
     ]
    }
   ],
   "source": [
    "print(json.dumps(btc_data, indent =4))"
   ]
  },
  {
   "cell_type": "code",
   "execution_count": 33,
   "metadata": {},
   "outputs": [
    {
     "name": "stdout",
     "output_type": "stream",
     "text": [
      "b'{\\n\\t\"data\": {\\n\\t\\t\"1027\": {\\n\\t\\t\\t\"id\": 1027,\\n\\t\\t\\t\"name\": \"Ethereum\",\\n\\t\\t\\t\"symbol\": \"ETH\",\\n\\t\\t\\t\"website_slug\": \"ethereum\",\\n\\t\\t\\t\"rank\": 2,\\n\\t\\t\\t\"circulating_supply\": 114089944,\\n\\t\\t\\t\"total_supply\": 114089944,\\n\\t\\t\\t\"max_supply\": 0,\\n\\t\\t\\t\"quotes\": {\\n\\t\\t\\t\\t\"USD\": {\\n\\t\\t\\t\\t\\t\"price\": 778.8800000000000000,\\n\\t\\t\\t\\t\\t\"volume_24h\": 18545860679,\\n\\t\\t\\t\\t\\t\"market_cap\": 89115904072,\\n\\t\\t\\t\\t\\t\"percentage_change_1h\": -0.4297050278318230,\\n\\t\\t\\t\\t\\t\"percentage_change_24h\": 6.8978080217455500,\\n\\t\\t\\t\\t\\t\"percentage_change_7d\": 24.3304479160211000,\\n\\t\\t\\t\\t\\t\"percent_change_1h\": -0.4297050278318230,\\n\\t\\t\\t\\t\\t\"percent_change_24h\": 6.8978080217455500,\\n\\t\\t\\t\\t\\t\"percent_change_7d\": 24.3304479160211000\\n\\t\\t\\t\\t},\\n\\t\\t\\t\\t\"CAD\": {\\n\\t\\t\\t\\t\\t\"price\": 992.059456,\\n\\t\\t\\t\\t\\t\"volume_24h\": 23621862746.8423,\\n\\t\\t\\t\\t\\t\"market_cap\": 113506927016.506,\\n\\t\\t\\t\\t\\t\"percent_change_1h\": -0.4297050278318230,\\n\\t\\t\\t\\t\\t\"percent_change_24h\": 6.8978080217455500,\\n\\t\\t\\t\\t\\t\"percent_change_7d\": 24.3304479160211000\\n\\t\\t\\t\\t}\\n\\t\\t\\t},\\n\\t\\t\\t\"last_updated\": 1609618226\\n\\t\\t}\\n\\t},\\n\\t\"metadata\": {\\n\\t\\t\"timestamp\": 1609618226,\\n\\t\\t\"num_cryptocurrencies\": 1389,\\n\\t\\t\"error\": null\\n\\t}\\n}'\n"
     ]
    }
   ],
   "source": [
    "# Fetch current ETH price\n",
    "response_data_eth = requests.get(eth_url)\n",
    "response_content_eth = response_data_eth.content\n",
    "print(response_content_eth)\n",
    "\n",
    "\n"
   ]
  },
  {
   "cell_type": "code",
   "execution_count": 34,
   "metadata": {},
   "outputs": [
    {
     "name": "stdout",
     "output_type": "stream",
     "text": [
      "{\n",
      "    \"data\": {\n",
      "        \"1027\": {\n",
      "            \"id\": 1027,\n",
      "            \"name\": \"Ethereum\",\n",
      "            \"symbol\": \"ETH\",\n",
      "            \"website_slug\": \"ethereum\",\n",
      "            \"rank\": 2,\n",
      "            \"circulating_supply\": 114089944,\n",
      "            \"total_supply\": 114089944,\n",
      "            \"max_supply\": 0,\n",
      "            \"quotes\": {\n",
      "                \"USD\": {\n",
      "                    \"price\": 778.88,\n",
      "                    \"volume_24h\": 18545860679,\n",
      "                    \"market_cap\": 89115904072,\n",
      "                    \"percentage_change_1h\": -0.429705027831823,\n",
      "                    \"percentage_change_24h\": 6.89780802174555,\n",
      "                    \"percentage_change_7d\": 24.3304479160211,\n",
      "                    \"percent_change_1h\": -0.429705027831823,\n",
      "                    \"percent_change_24h\": 6.89780802174555,\n",
      "                    \"percent_change_7d\": 24.3304479160211\n",
      "                },\n",
      "                \"CAD\": {\n",
      "                    \"price\": 992.059456,\n",
      "                    \"volume_24h\": 23621862746.8423,\n",
      "                    \"market_cap\": 113506927016.506,\n",
      "                    \"percent_change_1h\": -0.429705027831823,\n",
      "                    \"percent_change_24h\": 6.89780802174555,\n",
      "                    \"percent_change_7d\": 24.3304479160211\n",
      "                }\n",
      "            },\n",
      "            \"last_updated\": 1609618226\n",
      "        }\n",
      "    },\n",
      "    \"metadata\": {\n",
      "        \"timestamp\": 1609618226,\n",
      "        \"num_cryptocurrencies\": 1389,\n",
      "        \"error\": null\n",
      "    }\n",
      "}\n"
     ]
    }
   ],
   "source": [
    "eth_data = response_data_eth.json()\n",
    "print(json.dumps(eth_data, indent =4))"
   ]
  },
  {
   "cell_type": "code",
   "execution_count": 35,
   "metadata": {},
   "outputs": [
    {
     "name": "stdout",
     "output_type": "stream",
     "text": [
      "32795.0\n"
     ]
    }
   ],
   "source": [
    "# Compute current value of my crpto\n",
    "btc_value = btc_data['data']['1']['quotes']['USD']['price']\n",
    "print(btc_value)"
   ]
  },
  {
   "cell_type": "code",
   "execution_count": 36,
   "metadata": {},
   "outputs": [
    {
     "name": "stdout",
     "output_type": "stream",
     "text": [
      "39354.0\n"
     ]
    }
   ],
   "source": [
    "my_btc_value = btc_value * my_btc\n",
    "print(my_btc_value)"
   ]
  },
  {
   "cell_type": "code",
   "execution_count": 39,
   "metadata": {},
   "outputs": [
    {
     "name": "stdout",
     "output_type": "stream",
     "text": [
      "778.88\n"
     ]
    }
   ],
   "source": [
    "eth_value = eth_data['data']['1027']['quotes']['USD']['price']\n",
    "print(eth_value)"
   ]
  },
  {
   "cell_type": "code",
   "execution_count": 40,
   "metadata": {},
   "outputs": [
    {
     "name": "stdout",
     "output_type": "stream",
     "text": [
      "4128.063999999999\n"
     ]
    }
   ],
   "source": [
    "my_eth_value = eth_value * my_eth\n",
    "print(my_eth_value)"
   ]
  },
  {
   "cell_type": "code",
   "execution_count": 41,
   "metadata": {},
   "outputs": [
    {
     "name": "stdout",
     "output_type": "stream",
     "text": [
      "The current value of your 1.2 BTC is $39354.00\n",
      "The current value of your 5.3 ETH is $4128.06\n"
     ]
    }
   ],
   "source": [
    "# Print current crypto wallet balance\n",
    "print(f\"The current value of your {my_btc} BTC is ${my_btc_value:0.2f}\")\n",
    "print(f\"The current value of your {my_eth} ETH is ${my_eth_value:0.2f}\")"
   ]
  },
  {
   "cell_type": "code",
   "execution_count": null,
   "metadata": {},
   "outputs": [],
   "source": [
    "# Collect Investments Data Using Alpaca: SPY (stocks) and AGG (bonds)"
   ]
  },
  {
   "cell_type": "code",
   "execution_count": null,
   "metadata": {},
   "outputs": [],
   "source": [
    "# Current amount of shares\n",
    "# YOUR CODE HERE!"
   ]
  },
  {
   "cell_type": "code",
   "execution_count": 7,
   "metadata": {},
   "outputs": [],
   "source": [
    "# Set Alpaca API key and secret\n",
    "# YOUR CODE HERE!\n",
    "\n",
    "# Create the Alpaca API object\n",
    "# YOUR CODE HERE!"
   ]
  },
  {
   "cell_type": "code",
   "execution_count": null,
   "metadata": {},
   "outputs": [],
   "source": [
    "# Format current date as ISO format\n",
    "# YOUR CODE HERE!\n",
    "\n",
    "# Set the tickers\n",
    "tickers = [\"AGG\", \"SPY\"]\n",
    "\n",
    "# Set timeframe to '1D' for Alpaca API\n",
    "timeframe = \"1D\"\n",
    "\n",
    "# Get current closing prices for SPY and AGG\n",
    "# YOUR CODE HERE!\n",
    "\n",
    "# Preview DataFrame\n",
    "# YOUR CODE HERE!"
   ]
  },
  {
   "cell_type": "code",
   "execution_count": null,
   "metadata": {},
   "outputs": [],
   "source": [
    "# Pick AGG and SPY close prices\n",
    "# YOUR CODE HERE!\n",
    "\n",
    "# Print AGG and SPY close prices\n",
    "print(f\"Current AGG closing price: ${agg_close_price}\")\n",
    "print(f\"Current SPY closing price: ${spy_close_price}\")"
   ]
  },
  {
   "cell_type": "code",
   "execution_count": null,
   "metadata": {},
   "outputs": [],
   "source": [
    "# Compute the current value of shares\n",
    "# YOUR CODE HERE!\n",
    "\n",
    "# Print current value of share\n",
    "print(f\"The current value of your {my_spy} SPY shares is ${my_spy_value:0.2f}\")\n",
    "print(f\"The current value of your {my_agg} AGG shares is ${my_agg_value:0.2f}\")"
   ]
  },
  {
   "cell_type": "code",
   "execution_count": null,
   "metadata": {},
   "outputs": [],
   "source": [
    " # Set monthly household income\n",
    "# YOUR CODE HERE!\n",
    "\n",
    "# Create savings DataFrame\n",
    "# YOUR CODE HERE!\n",
    "\n",
    "# Display savings DataFrame\n",
    "display(df_savings)"
   ]
  },
  {
   "cell_type": "code",
   "execution_count": null,
   "metadata": {},
   "outputs": [],
   "source": [
    " # Plot savings pie chart\n",
    "# YOUR CODE HERE!"
   ]
  },
  {
   "cell_type": "code",
   "execution_count": null,
   "metadata": {},
   "outputs": [],
   "source": [
    " # Set ideal emergency fund\n",
    "emergency_fund = monthly_income * 3\n",
    "\n",
    "# Calculate total amount of savings\n",
    "# YOUR CODE HERE!\n",
    "\n",
    "# Validate saving health\n",
    "# YOUR CODE HERE!"
   ]
  },
  {
   "cell_type": "code",
   "execution_count": null,
   "metadata": {},
   "outputs": [],
   "source": []
  }
 ],
 "metadata": {
  "kernelspec": {
   "display_name": "Python 3",
   "language": "python",
   "name": "python3"
  },
  "language_info": {
   "codemirror_mode": {
    "name": "ipython",
    "version": 3
   },
   "file_extension": ".py",
   "mimetype": "text/x-python",
   "name": "python",
   "nbconvert_exporter": "python",
   "pygments_lexer": "ipython3",
   "version": "3.7.7"
  }
 },
 "nbformat": 4,
 "nbformat_minor": 4
}
