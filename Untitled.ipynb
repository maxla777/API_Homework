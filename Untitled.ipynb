{
 "cells": [
  {
   "cell_type": "code",
   "execution_count": 2,
   "metadata": {},
   "outputs": [],
   "source": [
    " # Initial imports\n",
    "import os\n",
    "import requests\n",
    "import pandas as pd\n",
    "from dotenv import load_dotenv\n",
    "import alpaca_trade_api as tradeapi\n",
    "from MCForecastTools import MCSimulation\n",
    "\n",
    "%matplotlib inline"
   ]
  },
  {
   "cell_type": "code",
   "execution_count": 3,
   "metadata": {},
   "outputs": [
    {
     "data": {
      "text/plain": [
       "True"
      ]
     },
     "execution_count": 3,
     "metadata": {},
     "output_type": "execute_result"
    }
   ],
   "source": [
    " # Load .env enviroment variables\n",
    "load_dotenv()"
   ]
  },
  {
   "cell_type": "code",
   "execution_count": 5,
   "metadata": {},
   "outputs": [],
   "source": [
    " #Part 1 - Personal Finance Planner\n",
    "    #Collect Crypto Prices Using the requests Library"
   ]
  },
  {
   "cell_type": "code",
   "execution_count": 8,
   "metadata": {},
   "outputs": [],
   "source": [
    "# Set current amount of crypto assets\n",
    "BTC =1.2\n",
    "ETH =5.3"
   ]
  },
  {
   "cell_type": "code",
   "execution_count": 9,
   "metadata": {},
   "outputs": [],
   "source": [
    "# Crypto API URLs\n",
    "btc_url = \"https://api.alternative.me/v2/ticker/Bitcoin/?convert=CAD\"\n",
    "eth_url = \"https://api.alternative.me/v2/ticker/Ethereum/?convert=CAD\""
   ]
  },
  {
   "cell_type": "code",
   "execution_count": 10,
   "metadata": {},
   "outputs": [],
   "source": [
    "import json"
   ]
  },
  {
   "cell_type": "code",
   "execution_count": 11,
   "metadata": {},
   "outputs": [
    {
     "data": {
      "text/plain": [
       "<Response [200]>"
      ]
     },
     "execution_count": 11,
     "metadata": {},
     "output_type": "execute_result"
    }
   ],
   "source": [
    "# Fetch current BTC price\n",
    "response_data_btc = requests.get(btc_url)\n",
    "response_data_btc\n"
   ]
  },
  {
   "cell_type": "code",
   "execution_count": 12,
   "metadata": {},
   "outputs": [
    {
     "name": "stdout",
     "output_type": "stream",
     "text": [
      "b'{\\n\\t\"data\": {\\n\\t\\t\"1\": {\\n\\t\\t\\t\"id\": 1,\\n\\t\\t\\t\"name\": \"Bitcoin\",\\n\\t\\t\\t\"symbol\": \"BTC\",\\n\\t\\t\\t\"website_slug\": \"bitcoin\",\\n\\t\\t\\t\"rank\": 1,\\n\\t\\t\\t\"circulating_supply\": 18588637,\\n\\t\\t\\t\"total_supply\": 18588637,\\n\\t\\t\\t\"max_supply\": 21000000,\\n\\t\\t\\t\"quotes\": {\\n\\t\\t\\t\\t\"USD\": {\\n\\t\\t\\t\\t\\t\"price\": 33026.0000000000000000,\\n\\t\\t\\t\\t\\t\"volume_24h\": 48723180042,\\n\\t\\t\\t\\t\\t\"market_cap\": 615060735590,\\n\\t\\t\\t\\t\\t\"percentage_change_1h\": 0.6673479341217320,\\n\\t\\t\\t\\t\\t\"percentage_change_24h\": 13.2789554890886000,\\n\\t\\t\\t\\t\\t\"percentage_change_7d\": 33.8637514580347000,\\n\\t\\t\\t\\t\\t\"percent_change_1h\": 0.6673479341217320,\\n\\t\\t\\t\\t\\t\"percent_change_24h\": 13.2789554890886000,\\n\\t\\t\\t\\t\\t\"percent_change_7d\": 33.8637514580347000\\n\\t\\t\\t\\t},\\n\\t\\t\\t\\t\"CAD\": {\\n\\t\\t\\t\\t\\t\"price\": 42065.2162,\\n\\t\\t\\t\\t\\t\"volume_24h\": 62058714419.4954,\\n\\t\\t\\t\\t\\t\"market_cap\": 783402858920.983,\\n\\t\\t\\t\\t\\t\"percent_change_1h\": 0.6673479341217320,\\n\\t\\t\\t\\t\\t\"percent_change_24h\": 13.2789554890886000,\\n\\t\\t\\t\\t\\t\"percent_change_7d\": 33.8637514580347000\\n\\t\\t\\t\\t}\\n\\t\\t\\t},\\n\\t\\t\\t\"last_updated\": 1609616679\\n\\t\\t}\\n\\t},\\n\\t\"metadata\": {\\n\\t\\t\"timestamp\": 1609616679,\\n\\t\\t\"num_cryptocurrencies\": 1389,\\n\\t\\t\"error\": null\\n\\t}\\n}'\n"
     ]
    }
   ],
   "source": [
    "response_content_btc = response_data_btc.content\n",
    "print(response_content_btc)"
   ]
  },
  {
   "cell_type": "code",
   "execution_count": 14,
   "metadata": {},
   "outputs": [],
   "source": [
    "data_btc = response_data_btc.json()"
   ]
  },
  {
   "cell_type": "code",
   "execution_count": 15,
   "metadata": {},
   "outputs": [
    {
     "name": "stdout",
     "output_type": "stream",
     "text": [
      "{\n",
      "    \"data\": {\n",
      "        \"1\": {\n",
      "            \"id\": 1,\n",
      "            \"name\": \"Bitcoin\",\n",
      "            \"symbol\": \"BTC\",\n",
      "            \"website_slug\": \"bitcoin\",\n",
      "            \"rank\": 1,\n",
      "            \"circulating_supply\": 18588637,\n",
      "            \"total_supply\": 18588637,\n",
      "            \"max_supply\": 21000000,\n",
      "            \"quotes\": {\n",
      "                \"USD\": {\n",
      "                    \"price\": 33026.0,\n",
      "                    \"volume_24h\": 48723180042,\n",
      "                    \"market_cap\": 615060735590,\n",
      "                    \"percentage_change_1h\": 0.667347934121732,\n",
      "                    \"percentage_change_24h\": 13.2789554890886,\n",
      "                    \"percentage_change_7d\": 33.8637514580347,\n",
      "                    \"percent_change_1h\": 0.667347934121732,\n",
      "                    \"percent_change_24h\": 13.2789554890886,\n",
      "                    \"percent_change_7d\": 33.8637514580347\n",
      "                },\n",
      "                \"CAD\": {\n",
      "                    \"price\": 42065.2162,\n",
      "                    \"volume_24h\": 62058714419.4954,\n",
      "                    \"market_cap\": 783402858920.983,\n",
      "                    \"percent_change_1h\": 0.667347934121732,\n",
      "                    \"percent_change_24h\": 13.2789554890886,\n",
      "                    \"percent_change_7d\": 33.8637514580347\n",
      "                }\n",
      "            },\n",
      "            \"last_updated\": 1609616679\n",
      "        }\n",
      "    },\n",
      "    \"metadata\": {\n",
      "        \"timestamp\": 1609616679,\n",
      "        \"num_cryptocurrencies\": 1389,\n",
      "        \"error\": null\n",
      "    }\n",
      "}\n"
     ]
    }
   ],
   "source": [
    "print(json.dumps(data_btc, indent =4))"
   ]
  },
  {
   "cell_type": "code",
   "execution_count": 17,
   "metadata": {},
   "outputs": [
    {
     "name": "stdout",
     "output_type": "stream",
     "text": [
      "b'{\\n\\t\"data\": {\\n\\t\\t\"1027\": {\\n\\t\\t\\t\"id\": 1027,\\n\\t\\t\\t\"name\": \"Ethereum\",\\n\\t\\t\\t\"symbol\": \"ETH\",\\n\\t\\t\\t\"website_slug\": \"ethereum\",\\n\\t\\t\\t\"rank\": 2,\\n\\t\\t\\t\"circulating_supply\": 114089771,\\n\\t\\t\\t\"total_supply\": 114089771,\\n\\t\\t\\t\"max_supply\": 0,\\n\\t\\t\\t\"quotes\": {\\n\\t\\t\\t\\t\"USD\": {\\n\\t\\t\\t\\t\\t\"price\": 787.9300000000000000,\\n\\t\\t\\t\\t\\t\"volume_24h\": 17599773214,\\n\\t\\t\\t\\t\\t\"market_cap\": 89846056260,\\n\\t\\t\\t\\t\\t\"percentage_change_1h\": 0.6449173284545520,\\n\\t\\t\\t\\t\\t\"percentage_change_24h\": 8.3315704421993100,\\n\\t\\t\\t\\t\\t\"percentage_change_7d\": 25.7753730690852000,\\n\\t\\t\\t\\t\\t\"percent_change_1h\": 0.6449173284545520,\\n\\t\\t\\t\\t\\t\"percent_change_24h\": 8.3315704421993100,\\n\\t\\t\\t\\t\\t\"percent_change_7d\": 25.7753730690852000\\n\\t\\t\\t\\t},\\n\\t\\t\\t\\t\"CAD\": {\\n\\t\\t\\t\\t\\t\"price\": 1003.586441,\\n\\t\\t\\t\\t\\t\"volume_24h\": 22416831142.6718,\\n\\t\\t\\t\\t\\t\"market_cap\": 114436921858.362,\\n\\t\\t\\t\\t\\t\"percent_change_1h\": 0.6449173284545520,\\n\\t\\t\\t\\t\\t\"percent_change_24h\": 8.3315704421993100,\\n\\t\\t\\t\\t\\t\"percent_change_7d\": 25.7753730690852000\\n\\t\\t\\t\\t}\\n\\t\\t\\t},\\n\\t\\t\\t\"last_updated\": 1609617034\\n\\t\\t}\\n\\t},\\n\\t\"metadata\": {\\n\\t\\t\"timestamp\": 1609617034,\\n\\t\\t\"num_cryptocurrencies\": 1389,\\n\\t\\t\"error\": null\\n\\t}\\n}'\n"
     ]
    }
   ],
   "source": [
    "# Fetch current ETH price\n",
    "response_data_eth = requests.get(eth_url)\n",
    "response_content_eth = response_data_eth.content\n",
    "print(response_content_eth)\n",
    "\n",
    "\n"
   ]
  },
  {
   "cell_type": "code",
   "execution_count": 18,
   "metadata": {},
   "outputs": [
    {
     "name": "stdout",
     "output_type": "stream",
     "text": [
      "{\n",
      "    \"data\": {\n",
      "        \"1027\": {\n",
      "            \"id\": 1027,\n",
      "            \"name\": \"Ethereum\",\n",
      "            \"symbol\": \"ETH\",\n",
      "            \"website_slug\": \"ethereum\",\n",
      "            \"rank\": 2,\n",
      "            \"circulating_supply\": 114089771,\n",
      "            \"total_supply\": 114089771,\n",
      "            \"max_supply\": 0,\n",
      "            \"quotes\": {\n",
      "                \"USD\": {\n",
      "                    \"price\": 787.93,\n",
      "                    \"volume_24h\": 17599773214,\n",
      "                    \"market_cap\": 89846056260,\n",
      "                    \"percentage_change_1h\": 0.644917328454552,\n",
      "                    \"percentage_change_24h\": 8.33157044219931,\n",
      "                    \"percentage_change_7d\": 25.7753730690852,\n",
      "                    \"percent_change_1h\": 0.644917328454552,\n",
      "                    \"percent_change_24h\": 8.33157044219931,\n",
      "                    \"percent_change_7d\": 25.7753730690852\n",
      "                },\n",
      "                \"CAD\": {\n",
      "                    \"price\": 1003.586441,\n",
      "                    \"volume_24h\": 22416831142.6718,\n",
      "                    \"market_cap\": 114436921858.362,\n",
      "                    \"percent_change_1h\": 0.644917328454552,\n",
      "                    \"percent_change_24h\": 8.33157044219931,\n",
      "                    \"percent_change_7d\": 25.7753730690852\n",
      "                }\n",
      "            },\n",
      "            \"last_updated\": 1609617034\n",
      "        }\n",
      "    },\n",
      "    \"metadata\": {\n",
      "        \"timestamp\": 1609617034,\n",
      "        \"num_cryptocurrencies\": 1389,\n",
      "        \"error\": null\n",
      "    }\n",
      "}\n"
     ]
    }
   ],
   "source": [
    "data_eth = response_data_eth.json()\n",
    "print(json.dumps(data_eth, indent =4))"
   ]
  },
  {
   "cell_type": "code",
   "execution_count": null,
   "metadata": {},
   "outputs": [],
   "source": [
    "# Compute current value of my crpto\n",
    "# YOUR CODE HERE!"
   ]
  },
  {
   "cell_type": "code",
   "execution_count": null,
   "metadata": {},
   "outputs": [],
   "source": [
    "# Print current crypto wallet balance\n",
    "print(f\"The current value of your {my_btc} BTC is ${my_btc_value:0.2f}\")\n",
    "print(f\"The current value of your {my_eth} ETH is ${my_eth_value:0.2f}\")"
   ]
  },
  {
   "cell_type": "code",
   "execution_count": null,
   "metadata": {},
   "outputs": [],
   "source": [
    "# Collect Investments Data Using Alpaca: SPY (stocks) and AGG (bonds)"
   ]
  },
  {
   "cell_type": "code",
   "execution_count": null,
   "metadata": {},
   "outputs": [],
   "source": [
    "# Current amount of shares\n",
    "# YOUR CODE HERE!"
   ]
  },
  {
   "cell_type": "code",
   "execution_count": 7,
   "metadata": {},
   "outputs": [],
   "source": [
    "# Set Alpaca API key and secret\n",
    "# YOUR CODE HERE!\n",
    "\n",
    "# Create the Alpaca API object\n",
    "# YOUR CODE HERE!"
   ]
  },
  {
   "cell_type": "code",
   "execution_count": null,
   "metadata": {},
   "outputs": [],
   "source": [
    "# Format current date as ISO format\n",
    "# YOUR CODE HERE!\n",
    "\n",
    "# Set the tickers\n",
    "tickers = [\"AGG\", \"SPY\"]\n",
    "\n",
    "# Set timeframe to '1D' for Alpaca API\n",
    "timeframe = \"1D\"\n",
    "\n",
    "# Get current closing prices for SPY and AGG\n",
    "# YOUR CODE HERE!\n",
    "\n",
    "# Preview DataFrame\n",
    "# YOUR CODE HERE!"
   ]
  },
  {
   "cell_type": "code",
   "execution_count": null,
   "metadata": {},
   "outputs": [],
   "source": [
    "# Pick AGG and SPY close prices\n",
    "# YOUR CODE HERE!\n",
    "\n",
    "# Print AGG and SPY close prices\n",
    "print(f\"Current AGG closing price: ${agg_close_price}\")\n",
    "print(f\"Current SPY closing price: ${spy_close_price}\")"
   ]
  },
  {
   "cell_type": "code",
   "execution_count": null,
   "metadata": {},
   "outputs": [],
   "source": [
    "# Compute the current value of shares\n",
    "# YOUR CODE HERE!\n",
    "\n",
    "# Print current value of share\n",
    "print(f\"The current value of your {my_spy} SPY shares is ${my_spy_value:0.2f}\")\n",
    "print(f\"The current value of your {my_agg} AGG shares is ${my_agg_value:0.2f}\")"
   ]
  },
  {
   "cell_type": "code",
   "execution_count": null,
   "metadata": {},
   "outputs": [],
   "source": [
    " # Set monthly household income\n",
    "# YOUR CODE HERE!\n",
    "\n",
    "# Create savings DataFrame\n",
    "# YOUR CODE HERE!\n",
    "\n",
    "# Display savings DataFrame\n",
    "display(df_savings)"
   ]
  },
  {
   "cell_type": "code",
   "execution_count": null,
   "metadata": {},
   "outputs": [],
   "source": [
    " # Plot savings pie chart\n",
    "# YOUR CODE HERE!"
   ]
  },
  {
   "cell_type": "code",
   "execution_count": null,
   "metadata": {},
   "outputs": [],
   "source": [
    " # Set ideal emergency fund\n",
    "emergency_fund = monthly_income * 3\n",
    "\n",
    "# Calculate total amount of savings\n",
    "# YOUR CODE HERE!\n",
    "\n",
    "# Validate saving health\n",
    "# YOUR CODE HERE!"
   ]
  },
  {
   "cell_type": "code",
   "execution_count": null,
   "metadata": {},
   "outputs": [],
   "source": []
  }
 ],
 "metadata": {
  "kernelspec": {
   "display_name": "Python 3",
   "language": "python",
   "name": "python3"
  },
  "language_info": {
   "codemirror_mode": {
    "name": "ipython",
    "version": 3
   },
   "file_extension": ".py",
   "mimetype": "text/x-python",
   "name": "python",
   "nbconvert_exporter": "python",
   "pygments_lexer": "ipython3",
   "version": "3.7.7"
  }
 },
 "nbformat": 4,
 "nbformat_minor": 4
}
