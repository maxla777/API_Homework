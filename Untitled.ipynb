{
 "cells": [
  {
   "cell_type": "code",
   "execution_count": 71,
   "metadata": {},
   "outputs": [],
   "source": [
    " # Initial imports\n",
    "import os\n",
    "import requests\n",
    "import pandas as pd\n",
    "from dotenv import load_dotenv\n",
    "import alpaca_trade_api as tradeapigit \n",
    "from MCForecastTools import MCSimulation\n",
    "\n",
    "%matplotlib inline"
   ]
  },
  {
   "cell_type": "code",
   "execution_count": 72,
   "metadata": {},
   "outputs": [
    {
     "data": {
      "text/plain": [
       "True"
      ]
     },
     "execution_count": 72,
     "metadata": {},
     "output_type": "execute_result"
    }
   ],
   "source": [
    " # Load .env enviroment variables\n",
    "load_dotenv()"
   ]
  },
  {
   "cell_type": "code",
   "execution_count": 73,
   "metadata": {},
   "outputs": [],
   "source": [
    " #Part 1 - Personal Finance Planner\n",
    "    #Collect Crypto Prices Using the requests Library"
   ]
  },
  {
   "cell_type": "code",
   "execution_count": 74,
   "metadata": {},
   "outputs": [],
   "source": [
    "# Set current amount of crypto assets\n",
    "my_btc =1.2\n",
    "my_eth =5.3"
   ]
  },
  {
   "cell_type": "code",
   "execution_count": 75,
   "metadata": {},
   "outputs": [],
   "source": [
    "# Crypto API URLs\n",
    "btc_url = \"https://api.alternative.me/v2/ticker/Bitcoin/?convert=CAD\"\n",
    "eth_url = \"https://api.alternative.me/v2/ticker/Ethereum/?convert=CAD\""
   ]
  },
  {
   "cell_type": "code",
   "execution_count": 76,
   "metadata": {},
   "outputs": [],
   "source": [
    "import json"
   ]
  },
  {
   "cell_type": "code",
   "execution_count": 77,
   "metadata": {},
   "outputs": [
    {
     "data": {
      "text/plain": [
       "<Response [200]>"
      ]
     },
     "execution_count": 77,
     "metadata": {},
     "output_type": "execute_result"
    }
   ],
   "source": [
    "# Fetch current BTC price\n",
    "response_data_btc = requests.get(btc_url)\n",
    "response_data_btc\n"
   ]
  },
  {
   "cell_type": "code",
   "execution_count": 78,
   "metadata": {},
   "outputs": [
    {
     "name": "stdout",
     "output_type": "stream",
     "text": [
      "b'{\\n\\t\"data\": {\\n\\t\\t\"1\": {\\n\\t\\t\\t\"id\": 1,\\n\\t\\t\\t\"name\": \"Bitcoin\",\\n\\t\\t\\t\"symbol\": \"BTC\",\\n\\t\\t\\t\"website_slug\": \"bitcoin\",\\n\\t\\t\\t\"rank\": 1,\\n\\t\\t\\t\"circulating_supply\": 18590968,\\n\\t\\t\\t\"total_supply\": 18590968,\\n\\t\\t\\t\"max_supply\": 21000000,\\n\\t\\t\\t\"quotes\": {\\n\\t\\t\\t\\t\"USD\": {\\n\\t\\t\\t\\t\\t\"price\": 31604.0000000000000000,\\n\\t\\t\\t\\t\\t\"volume_24h\": 88621051588,\\n\\t\\t\\t\\t\\t\"market_cap\": 588130271963,\\n\\t\\t\\t\\t\\t\"percentage_change_1h\": 0.3295826462397380,\\n\\t\\t\\t\\t\\t\"percentage_change_24h\": -5.2042667561356900,\\n\\t\\t\\t\\t\\t\"percentage_change_7d\": 16.5105510700627000,\\n\\t\\t\\t\\t\\t\"percent_change_1h\": 0.3295826462397380,\\n\\t\\t\\t\\t\\t\"percent_change_24h\": -5.2042667561356900,\\n\\t\\t\\t\\t\\t\"percent_change_7d\": 16.5105510700627000\\n\\t\\t\\t\\t},\\n\\t\\t\\t\\t\"CAD\": {\\n\\t\\t\\t\\t\\t\"price\": 40355.1476,\\n\\t\\t\\t\\t\\t\"volume_24h\": 113160220772.717,\\n\\t\\t\\t\\t\\t\"market_cap\": 750983544269.555,\\n\\t\\t\\t\\t\\t\"percent_change_1h\": 0.3295826462397380,\\n\\t\\t\\t\\t\\t\"percent_change_24h\": -5.2042667561356900,\\n\\t\\t\\t\\t\\t\"percent_change_7d\": 16.5105510700627000\\n\\t\\t\\t\\t}\\n\\t\\t\\t},\\n\\t\\t\\t\"last_updated\": 1609811658\\n\\t\\t}\\n\\t},\\n\\t\"metadata\": {\\n\\t\\t\"timestamp\": 1609811658,\\n\\t\\t\"num_cryptocurrencies\": 1389,\\n\\t\\t\"error\": null\\n\\t}\\n}'\n"
     ]
    }
   ],
   "source": [
    "response_content_btc = response_data_btc.content\n",
    "print(response_content_btc)"
   ]
  },
  {
   "cell_type": "code",
   "execution_count": 79,
   "metadata": {},
   "outputs": [],
   "source": [
    "btc_data = response_data_btc.json()"
   ]
  },
  {
   "cell_type": "code",
   "execution_count": 80,
   "metadata": {},
   "outputs": [
    {
     "name": "stdout",
     "output_type": "stream",
     "text": [
      "{\n",
      "    \"data\": {\n",
      "        \"1\": {\n",
      "            \"id\": 1,\n",
      "            \"name\": \"Bitcoin\",\n",
      "            \"symbol\": \"BTC\",\n",
      "            \"website_slug\": \"bitcoin\",\n",
      "            \"rank\": 1,\n",
      "            \"circulating_supply\": 18590968,\n",
      "            \"total_supply\": 18590968,\n",
      "            \"max_supply\": 21000000,\n",
      "            \"quotes\": {\n",
      "                \"USD\": {\n",
      "                    \"price\": 31604.0,\n",
      "                    \"volume_24h\": 88621051588,\n",
      "                    \"market_cap\": 588130271963,\n",
      "                    \"percentage_change_1h\": 0.329582646239738,\n",
      "                    \"percentage_change_24h\": -5.20426675613569,\n",
      "                    \"percentage_change_7d\": 16.5105510700627,\n",
      "                    \"percent_change_1h\": 0.329582646239738,\n",
      "                    \"percent_change_24h\": -5.20426675613569,\n",
      "                    \"percent_change_7d\": 16.5105510700627\n",
      "                },\n",
      "                \"CAD\": {\n",
      "                    \"price\": 40355.1476,\n",
      "                    \"volume_24h\": 113160220772.717,\n",
      "                    \"market_cap\": 750983544269.555,\n",
      "                    \"percent_change_1h\": 0.329582646239738,\n",
      "                    \"percent_change_24h\": -5.20426675613569,\n",
      "                    \"percent_change_7d\": 16.5105510700627\n",
      "                }\n",
      "            },\n",
      "            \"last_updated\": 1609811658\n",
      "        }\n",
      "    },\n",
      "    \"metadata\": {\n",
      "        \"timestamp\": 1609811658,\n",
      "        \"num_cryptocurrencies\": 1389,\n",
      "        \"error\": null\n",
      "    }\n",
      "}\n"
     ]
    }
   ],
   "source": [
    "print(json.dumps(btc_data, indent =4))"
   ]
  },
  {
   "cell_type": "code",
   "execution_count": 81,
   "metadata": {},
   "outputs": [
    {
     "name": "stdout",
     "output_type": "stream",
     "text": [
      "b'{\\n\\t\"data\": {\\n\\t\\t\"1027\": {\\n\\t\\t\\t\"id\": 1027,\\n\\t\\t\\t\"name\": \"Ethereum\",\\n\\t\\t\\t\"symbol\": \"ETH\",\\n\\t\\t\\t\"website_slug\": \"ethereum\",\\n\\t\\t\\t\"rank\": 2,\\n\\t\\t\\t\"circulating_supply\": 114120140,\\n\\t\\t\\t\"total_supply\": 114120140,\\n\\t\\t\\t\"max_supply\": 0,\\n\\t\\t\\t\"quotes\": {\\n\\t\\t\\t\\t\"USD\": {\\n\\t\\t\\t\\t\\t\"price\": 1060.8000000000000000,\\n\\t\\t\\t\\t\\t\"volume_24h\": 65017514305,\\n\\t\\t\\t\\t\\t\"market_cap\": 120658228882,\\n\\t\\t\\t\\t\\t\"percentage_change_1h\": -1.9749375363528600,\\n\\t\\t\\t\\t\\t\"percentage_change_24h\": 8.6309695166882600,\\n\\t\\t\\t\\t\\t\"percentage_change_7d\": 44.7286861628095000,\\n\\t\\t\\t\\t\\t\"percent_change_1h\": -1.9749375363528600,\\n\\t\\t\\t\\t\\t\"percent_change_24h\": 8.6309695166882600,\\n\\t\\t\\t\\t\\t\"percent_change_7d\": 44.7286861628095000\\n\\t\\t\\t\\t},\\n\\t\\t\\t\\t\"CAD\": {\\n\\t\\t\\t\\t\\t\"price\": 1354.53552,\\n\\t\\t\\t\\t\\t\"volume_24h\": 83020864016.0545,\\n\\t\\t\\t\\t\\t\"market_cap\": 154068492459.426,\\n\\t\\t\\t\\t\\t\"percent_change_1h\": -1.9749375363528600,\\n\\t\\t\\t\\t\\t\"percent_change_24h\": 8.6309695166882600,\\n\\t\\t\\t\\t\\t\"percent_change_7d\": 44.7286861628095000\\n\\t\\t\\t\\t}\\n\\t\\t\\t},\\n\\t\\t\\t\"last_updated\": 1609811604\\n\\t\\t}\\n\\t},\\n\\t\"metadata\": {\\n\\t\\t\"timestamp\": 1609811604,\\n\\t\\t\"num_cryptocurrencies\": 1389,\\n\\t\\t\"error\": null\\n\\t}\\n}'\n"
     ]
    }
   ],
   "source": [
    "# Fetch current ETH price\n",
    "response_data_eth = requests.get(eth_url)\n",
    "response_content_eth = response_data_eth.content\n",
    "print(response_content_eth)\n",
    "\n",
    "\n"
   ]
  },
  {
   "cell_type": "code",
   "execution_count": 82,
   "metadata": {},
   "outputs": [
    {
     "name": "stdout",
     "output_type": "stream",
     "text": [
      "{\n",
      "    \"data\": {\n",
      "        \"1027\": {\n",
      "            \"id\": 1027,\n",
      "            \"name\": \"Ethereum\",\n",
      "            \"symbol\": \"ETH\",\n",
      "            \"website_slug\": \"ethereum\",\n",
      "            \"rank\": 2,\n",
      "            \"circulating_supply\": 114120140,\n",
      "            \"total_supply\": 114120140,\n",
      "            \"max_supply\": 0,\n",
      "            \"quotes\": {\n",
      "                \"USD\": {\n",
      "                    \"price\": 1060.8,\n",
      "                    \"volume_24h\": 65017514305,\n",
      "                    \"market_cap\": 120658228882,\n",
      "                    \"percentage_change_1h\": -1.97493753635286,\n",
      "                    \"percentage_change_24h\": 8.63096951668826,\n",
      "                    \"percentage_change_7d\": 44.7286861628095,\n",
      "                    \"percent_change_1h\": -1.97493753635286,\n",
      "                    \"percent_change_24h\": 8.63096951668826,\n",
      "                    \"percent_change_7d\": 44.7286861628095\n",
      "                },\n",
      "                \"CAD\": {\n",
      "                    \"price\": 1354.53552,\n",
      "                    \"volume_24h\": 83020864016.0545,\n",
      "                    \"market_cap\": 154068492459.426,\n",
      "                    \"percent_change_1h\": -1.97493753635286,\n",
      "                    \"percent_change_24h\": 8.63096951668826,\n",
      "                    \"percent_change_7d\": 44.7286861628095\n",
      "                }\n",
      "            },\n",
      "            \"last_updated\": 1609811604\n",
      "        }\n",
      "    },\n",
      "    \"metadata\": {\n",
      "        \"timestamp\": 1609811604,\n",
      "        \"num_cryptocurrencies\": 1389,\n",
      "        \"error\": null\n",
      "    }\n",
      "}\n"
     ]
    }
   ],
   "source": [
    "eth_data = response_data_eth.json()\n",
    "print(json.dumps(eth_data, indent =4))"
   ]
  },
  {
   "cell_type": "code",
   "execution_count": 83,
   "metadata": {},
   "outputs": [
    {
     "name": "stdout",
     "output_type": "stream",
     "text": [
      "31604.0\n"
     ]
    }
   ],
   "source": [
    "# Compute current value of my crpto\n",
    "btc_value = btc_data['data']['1']['quotes']['USD']['price']\n",
    "print(btc_value)"
   ]
  },
  {
   "cell_type": "code",
   "execution_count": 84,
   "metadata": {},
   "outputs": [
    {
     "name": "stdout",
     "output_type": "stream",
     "text": [
      "37924.799999999996\n"
     ]
    }
   ],
   "source": [
    "my_btc_value = btc_value * my_btc\n",
    "print(my_btc_value)"
   ]
  },
  {
   "cell_type": "code",
   "execution_count": 85,
   "metadata": {},
   "outputs": [
    {
     "name": "stdout",
     "output_type": "stream",
     "text": [
      "1060.8\n"
     ]
    }
   ],
   "source": [
    "eth_value = eth_data['data']['1027']['quotes']['USD']['price']\n",
    "print(eth_value)"
   ]
  },
  {
   "cell_type": "code",
   "execution_count": 86,
   "metadata": {},
   "outputs": [
    {
     "name": "stdout",
     "output_type": "stream",
     "text": [
      "5622.24\n"
     ]
    }
   ],
   "source": [
    "my_eth_value = eth_value * my_eth\n",
    "print(my_eth_value)"
   ]
  },
  {
   "cell_type": "code",
   "execution_count": 87,
   "metadata": {},
   "outputs": [
    {
     "name": "stdout",
     "output_type": "stream",
     "text": [
      "The current value of your 1.2 BTC is $37924.80\n",
      "The current value of your 5.3 ETH is $5622.24\n"
     ]
    }
   ],
   "source": [
    "# Print current crypto wallet balance\n",
    "print(f\"The current value of your {my_btc} BTC is ${my_btc_value:0.2f}\")\n",
    "print(f\"The current value of your {my_eth} ETH is ${my_eth_value:0.2f}\")"
   ]
  },
  {
   "cell_type": "code",
   "execution_count": 88,
   "metadata": {},
   "outputs": [],
   "source": [
    "# Collect Investments Data Using Alpaca: SPY (stocks) and AGG (bonds)"
   ]
  },
  {
   "cell_type": "code",
   "execution_count": 89,
   "metadata": {},
   "outputs": [],
   "source": [
    "# Current amount of shares\n",
    "my_agg = 200\n",
    "my_spy =50"
   ]
  },
  {
   "cell_type": "code",
   "execution_count": 90,
   "metadata": {},
   "outputs": [
    {
     "name": "stdout",
     "output_type": "stream",
     "text": [
      "ALP Key type:<class 'str'>\n"
     ]
    }
   ],
   "source": [
    "# Set Alpaca API key and secret\n",
    "alpaca_api_key = os.getenv(\"ALPACA_API_KEY\")\n",
    "alpaca_secret_key = os.getenv(\"ALPACA_SECRET_KEY\")\n",
    "print(f\"ALP Key type:{type(alpaca_secret_key)}\")\n"
   ]
  },
  {
   "cell_type": "code",
   "execution_count": 91,
   "metadata": {},
   "outputs": [],
   "source": [
    "# Create the Alpaca API object\n",
    "alpaca = tradeapi.REST(\n",
    "    alpaca_api_key,\n",
    "    alpaca_secret_key,\n",
    "    api_version=\"v2\")"
   ]
  },
  {
   "cell_type": "code",
   "execution_count": 92,
   "metadata": {},
   "outputs": [
    {
     "data": {
      "text/plain": [
       "'2020-12-29T00:00:00-05:00'"
      ]
     },
     "execution_count": 92,
     "metadata": {},
     "output_type": "execute_result"
    }
   ],
   "source": [
    "# Format current date as ISO format\n",
    "today = pd.Timestamp('2020-12-29', tz = 'America/New_York').isoformat()\n",
    "today\n",
    "\n"
   ]
  },
  {
   "cell_type": "code",
   "execution_count": 93,
   "metadata": {},
   "outputs": [],
   "source": [
    "# Set the tickers\n",
    "tickers = [\"AGG\", \"SPY\"]\n",
    "\n",
    "# Set timeframe to '1D' for Alpaca API\n",
    "timeframe = \"1D\"\n",
    "\n"
   ]
  },
  {
   "cell_type": "code",
   "execution_count": 94,
   "metadata": {},
   "outputs": [],
   "source": [
    "# Get current closing prices for SPY and AGG\n",
    "df_portfolio = alpaca.get_barset(\n",
    "    tickers,\n",
    "    timeframe,\n",
    "    start = today,\n",
    "    end = today\n",
    ").df\n",
    "\n"
   ]
  },
  {
   "cell_type": "code",
   "execution_count": 99,
   "metadata": {},
   "outputs": [
    {
     "data": {
      "text/html": [
       "<div>\n",
       "<style scoped>\n",
       "    .dataframe tbody tr th:only-of-type {\n",
       "        vertical-align: middle;\n",
       "    }\n",
       "\n",
       "    .dataframe tbody tr th {\n",
       "        vertical-align: top;\n",
       "    }\n",
       "\n",
       "    .dataframe thead tr th {\n",
       "        text-align: left;\n",
       "    }\n",
       "\n",
       "    .dataframe thead tr:last-of-type th {\n",
       "        text-align: right;\n",
       "    }\n",
       "</style>\n",
       "<table border=\"1\" class=\"dataframe\">\n",
       "  <thead>\n",
       "    <tr>\n",
       "      <th></th>\n",
       "      <th colspan=\"5\" halign=\"left\">AGG</th>\n",
       "      <th colspan=\"5\" halign=\"left\">SPY</th>\n",
       "    </tr>\n",
       "    <tr>\n",
       "      <th></th>\n",
       "      <th>open</th>\n",
       "      <th>high</th>\n",
       "      <th>low</th>\n",
       "      <th>close</th>\n",
       "      <th>volume</th>\n",
       "      <th>open</th>\n",
       "      <th>high</th>\n",
       "      <th>low</th>\n",
       "      <th>close</th>\n",
       "      <th>volume</th>\n",
       "    </tr>\n",
       "    <tr>\n",
       "      <th>time</th>\n",
       "      <th></th>\n",
       "      <th></th>\n",
       "      <th></th>\n",
       "      <th></th>\n",
       "      <th></th>\n",
       "      <th></th>\n",
       "      <th></th>\n",
       "      <th></th>\n",
       "      <th></th>\n",
       "      <th></th>\n",
       "    </tr>\n",
       "  </thead>\n",
       "  <tbody>\n",
       "    <tr>\n",
       "      <th>2020-12-29 00:00:00-05:00</th>\n",
       "      <td>118.06</td>\n",
       "      <td>118.06</td>\n",
       "      <td>117.92</td>\n",
       "      <td>118.05</td>\n",
       "      <td>3255442</td>\n",
       "      <td>373.81</td>\n",
       "      <td>374</td>\n",
       "      <td>370.83</td>\n",
       "      <td>371.48</td>\n",
       "      <td>45214280</td>\n",
       "    </tr>\n",
       "  </tbody>\n",
       "</table>\n",
       "</div>"
      ],
      "text/plain": [
       "                              AGG                                      SPY  \\\n",
       "                             open    high     low   close   volume    open   \n",
       "time                                                                         \n",
       "2020-12-29 00:00:00-05:00  118.06  118.06  117.92  118.05  3255442  373.81   \n",
       "\n",
       "                                                          \n",
       "                          high     low   close    volume  \n",
       "time                                                      \n",
       "2020-12-29 00:00:00-05:00  374  370.83  371.48  45214280  "
      ]
     },
     "execution_count": 99,
     "metadata": {},
     "output_type": "execute_result"
    }
   ],
   "source": [
    "# Preview DataFrame\n",
    "df_portfolio"
   ]
  },
  {
   "cell_type": "code",
   "execution_count": 96,
   "metadata": {},
   "outputs": [],
   "source": [
    "# Pick AGG and SPY close prices\n",
    "agg_closing_price = float(df_portfolio['AGG']['close'])\n",
    "spy_closing_price = float(df_portfolio['SPY']['close'])\n",
    "\n",
    "\n"
   ]
  },
  {
   "cell_type": "code",
   "execution_count": 101,
   "metadata": {},
   "outputs": [
    {
     "data": {
      "text/html": [
       "<div>\n",
       "<style scoped>\n",
       "    .dataframe tbody tr th:only-of-type {\n",
       "        vertical-align: middle;\n",
       "    }\n",
       "\n",
       "    .dataframe tbody tr th {\n",
       "        vertical-align: top;\n",
       "    }\n",
       "\n",
       "    .dataframe thead tr th {\n",
       "        text-align: left;\n",
       "    }\n",
       "</style>\n",
       "<table border=\"1\" class=\"dataframe\">\n",
       "  <thead>\n",
       "    <tr>\n",
       "      <th></th>\n",
       "      <th colspan=\"5\" halign=\"left\">AGG</th>\n",
       "      <th colspan=\"5\" halign=\"left\">SPY</th>\n",
       "    </tr>\n",
       "    <tr>\n",
       "      <th></th>\n",
       "      <th>open</th>\n",
       "      <th>high</th>\n",
       "      <th>low</th>\n",
       "      <th>close</th>\n",
       "      <th>volume</th>\n",
       "      <th>open</th>\n",
       "      <th>high</th>\n",
       "      <th>low</th>\n",
       "      <th>close</th>\n",
       "      <th>volume</th>\n",
       "    </tr>\n",
       "  </thead>\n",
       "  <tbody>\n",
       "    <tr>\n",
       "      <th>2020-12-29</th>\n",
       "      <td>118.06</td>\n",
       "      <td>118.06</td>\n",
       "      <td>117.92</td>\n",
       "      <td>118.05</td>\n",
       "      <td>3255442</td>\n",
       "      <td>373.81</td>\n",
       "      <td>374</td>\n",
       "      <td>370.83</td>\n",
       "      <td>371.48</td>\n",
       "      <td>45214280</td>\n",
       "    </tr>\n",
       "  </tbody>\n",
       "</table>\n",
       "</div>"
      ],
      "text/plain": [
       "               AGG                                      SPY               \\\n",
       "              open    high     low   close   volume    open high     low   \n",
       "2020-12-29  118.06  118.06  117.92  118.05  3255442  373.81  374  370.83   \n",
       "\n",
       "                              \n",
       "             close    volume  \n",
       "2020-12-29  371.48  45214280  "
      ]
     },
     "execution_count": 101,
     "metadata": {},
     "output_type": "execute_result"
    }
   ],
   "source": [
    "df_portfolio.index=df_portfolio.index.date\n",
    "df_portfolio.head()"
   ]
  },
  {
   "cell_type": "code",
   "execution_count": 102,
   "metadata": {},
   "outputs": [
    {
     "name": "stdout",
     "output_type": "stream",
     "text": [
      "Current AGG closing price: $118.05\n",
      "Current SPY closing price: $371.48\n"
     ]
    }
   ],
   "source": [
    "# Print AGG and SPY close prices\n",
    "print(f\"Current AGG closing price: ${agg_closing_price}\")\n",
    "print(f\"Current SPY closing price: ${spy_closing_price}\")"
   ]
  },
  {
   "cell_type": "code",
   "execution_count": 107,
   "metadata": {},
   "outputs": [
    {
     "name": "stdout",
     "output_type": "stream",
     "text": [
      "The current value of your 50 SPY shares is $ 18574.00\n",
      "The current value of your 200 AGG shares is $ 23610.00\n"
     ]
    }
   ],
   "source": [
    "# Compute the current value of shares\n",
    "my_spy_value = my_spy*spy_closing_price\n",
    "my_agg_value = my_agg*agg_closing_price\n",
    "\n",
    "# Print current value of share\n",
    "print(f\"The current value of your {my_spy} SPY shares is $ {my_spy_value:0.2f}\")\n",
    "print(f\"The current value of your {my_agg} AGG shares is $ {my_agg_value:0.2f}\")"
   ]
  },
  {
   "cell_type": "code",
   "execution_count": 114,
   "metadata": {},
   "outputs": [
    {
     "data": {
      "text/html": [
       "<div>\n",
       "<style scoped>\n",
       "    .dataframe tbody tr th:only-of-type {\n",
       "        vertical-align: middle;\n",
       "    }\n",
       "\n",
       "    .dataframe tbody tr th {\n",
       "        vertical-align: top;\n",
       "    }\n",
       "\n",
       "    .dataframe thead th {\n",
       "        text-align: right;\n",
       "    }\n",
       "</style>\n",
       "<table border=\"1\" class=\"dataframe\">\n",
       "  <thead>\n",
       "    <tr style=\"text-align: right;\">\n",
       "      <th></th>\n",
       "      <th>amount</th>\n",
       "    </tr>\n",
       "  </thead>\n",
       "  <tbody>\n",
       "    <tr>\n",
       "      <th>cypto assets</th>\n",
       "      <td>43547.04</td>\n",
       "    </tr>\n",
       "    <tr>\n",
       "      <th>shares</th>\n",
       "      <td>42184.00</td>\n",
       "    </tr>\n",
       "  </tbody>\n",
       "</table>\n",
       "</div>"
      ],
      "text/plain": [
       "                amount\n",
       "cypto assets  43547.04\n",
       "shares        42184.00"
      ]
     },
     "metadata": {},
     "output_type": "display_data"
    }
   ],
   "source": [
    " # Set monthly household income\n",
    "monthly_income = 12000\n",
    "\n",
    "# Create savings DataFrame\n",
    "crypto_assets=my_btc_value+my_eth_value\n",
    "total_shares_value=my_spy_value+my_agg_value\n",
    "\n",
    "data={'amount':[crypto_assets, total_shares_value]}\n",
    "\n",
    "df_savings = pd.DataFrame(data, index=['cypto assets','shares'])\n",
    "\n",
    "# Display savings DataFrame\n",
    "display(df_savings)"
   ]
  },
  {
   "cell_type": "code",
   "execution_count": null,
   "metadata": {},
   "outputs": [],
   "source": [
    " # Plot savings pie chart\n",
    "# "
   ]
  },
  {
   "cell_type": "code",
   "execution_count": null,
   "metadata": {},
   "outputs": [],
   "source": [
    " # Set ideal emergency fund\n",
    "emergency_fund = monthly_income * 3\n",
    "\n",
    "# Calculate total amount of savings\n",
    "# YOUR CODE HERE!\n",
    "\n",
    "# Validate saving health\n",
    "# YOUR CODE HERE!"
   ]
  },
  {
   "cell_type": "code",
   "execution_count": null,
   "metadata": {},
   "outputs": [],
   "source": []
  }
 ],
 "metadata": {
  "kernelspec": {
   "display_name": "Python 3",
   "language": "python",
   "name": "python3"
  },
  "language_info": {
   "codemirror_mode": {
    "name": "ipython",
    "version": 3
   },
   "file_extension": ".py",
   "mimetype": "text/x-python",
   "name": "python",
   "nbconvert_exporter": "python",
   "pygments_lexer": "ipython3",
   "version": "3.7.7"
  }
 },
 "nbformat": 4,
 "nbformat_minor": 4
}
